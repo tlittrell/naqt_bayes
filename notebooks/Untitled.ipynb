{
 "cells": [
  {
   "cell_type": "code",
   "execution_count": null,
   "metadata": {},
   "outputs": [],
   "source": [
    "import pandas as pd\n",
    "import pymc3 as pm\n",
    "import arviz as az\n",
    "import matplotlib.pyplot as plt\n",
    "import seaborn as sns\n",
    "import theano.tensor as tt\n",
    "import numpy as np\n",
    "from kedro.runner import SequentialRunner\n",
    "from sklearn.preprocessing import StandardScaler\n",
    "\n",
    "%reload_kedro\n",
    "%load_ext autoreload\n",
    "%autoreload 2"
   ]
  },
  {
   "cell_type": "markdown",
   "metadata": {},
   "source": [
    "# Analyze game data"
   ]
  },
  {
   "cell_type": "code",
   "execution_count": null,
   "metadata": {},
   "outputs": [],
   "source": [
    "all_games = catalog.load(\"primary_HSNCT_all_games_2019\")"
   ]
  },
  {
   "cell_type": "markdown",
   "metadata": {},
   "source": [
    "### Model"
   ]
  },
  {
   "cell_type": "code",
   "execution_count": null,
   "metadata": {},
   "outputs": [],
   "source": [
    "all_games['point_diff_per_20tuh'] = (all_games['point_diff'] / all_games['tuh']) * 20"
   ]
  },
  {
   "cell_type": "code",
   "execution_count": null,
   "metadata": {},
   "outputs": [],
   "source": [
    "all_games.head()"
   ]
  },
  {
   "cell_type": "code",
   "execution_count": null,
   "metadata": {},
   "outputs": [],
   "source": [
    "num_teams = len(set(all_games[\"team_1\"].unique()) | set(all_games[\"team_2\"].unique()))\n",
    "num_rounds = all_games[\"round\"].nunique() + 1\n",
    "team_1 = all_games[\"team_1_index\"].values\n",
    "team_2 = all_games[\"team_2_index\"].values\n",
    "round_idx = all_games['round'].values\n",
    "point_diff_norm = StandardScaler(with_std=False).fit_transform(all_games[[\"point_diff_per_20tuh\"]])[:,0]"
   ]
  },
  {
   "cell_type": "code",
   "execution_count": null,
   "metadata": {},
   "outputs": [],
   "source": [
    "# %debug\n",
    "with pm.Model() as model:\n",
    "    \n",
    "    #hyperpriors\n",
    "    sigma_strength = pm.HalfCauchy('sigma_strength', beta=20)\n",
    "\n",
    "    # priors\n",
    "    strength = pm.HalfNormal(\"strength\", sd=sigma_strength, shape=num_teams)\n",
    "    sigma_diff = pm.HalfCauchy(\"sigma_dfif\", beta=20)\n",
    "    \n",
    "    # likelihood of observed data\n",
    "    mu_diff = strength[team_1] - strength[team_2]\n",
    "    point_diff = pm.Normal('point_diff', mu=mu_diff, sigma=sigma_diff, observed=point_diff_norm)\n",
    "\n",
    "    trace = pm.sample(tune=2000)"
   ]
  },
  {
   "cell_type": "code",
   "execution_count": null,
   "metadata": {},
   "outputs": [],
   "source": [
    "team_indices = (\n",
    "    pd.DataFrame(list(set(all_games[\"team_1\"].unique()) | set(all_games[\"team_2\"].unique())))\n",
    "    .reset_index()\n",
    "    .rename({0: \"team\"}, axis=1)\n",
    "    .set_index(\"team\")\n",
    "    .to_dict()[\"index\"]\n",
    ")\n",
    "team_indices_reverse = {val:key for key, val in team_indices.items()}"
   ]
  },
  {
   "cell_type": "code",
   "execution_count": null,
   "metadata": {},
   "outputs": [],
   "source": [
    "diff_summary = az.from_pymc3(trace,\n",
    "                            coords={\"school\":list(team_indices.keys())},\n",
    "                            dims={\"strength\":[\"school\"]})"
   ]
  },
  {
   "cell_type": "code",
   "execution_count": null,
   "metadata": {},
   "outputs": [],
   "source": [
    "summary_df = az.summary(diff_summary, var_names=['strength']).reset_index()"
   ]
  },
  {
   "cell_type": "code",
   "execution_count": null,
   "metadata": {},
   "outputs": [],
   "source": [
    "import re\n",
    "def get_team_name(x):\n",
    "    matches = re.findall(\"strength\\[([0-9]+)]\",x)\n",
    "    assert len(matches) == 1\n",
    "    team_num = int(matches[0])\n",
    "    return team_indices_reverse[team_num]"
   ]
  },
  {
   "cell_type": "code",
   "execution_count": null,
   "metadata": {},
   "outputs": [],
   "source": [
    "summary_df['team'] = summary_df['index'].apply(get_team_name)"
   ]
  },
  {
   "cell_type": "code",
   "execution_count": null,
   "metadata": {},
   "outputs": [],
   "source": [
    "summary_df.sort_values(\"mean\", ascending=False).head(10)"
   ]
  },
  {
   "cell_type": "markdown",
   "metadata": {},
   "source": [
    "# Player model"
   ]
  },
  {
   "cell_type": "code",
   "execution_count": null,
   "metadata": {},
   "outputs": [],
   "source": [
    "import requests\n",
    "from bs4 import BeautifulSoup\n",
    "import re\n",
    "import time\n",
    "import pandas as pd"
   ]
  },
  {
   "cell_type": "code",
   "execution_count": null,
   "metadata": {},
   "outputs": [],
   "source": [
    "url = \"https://www.naqt.com/stats/tournament/individuals.jsp?tournament_id=9500&playoffs=true\"\n",
    "page = requests.get(url)\n",
    "soup = BeautifulSoup(page.content, \"html.parser\")\n",
    "tb = soup.find(\"table\", class_=\"data-freeze-2\")"
   ]
  },
  {
   "cell_type": "code",
   "execution_count": null,
   "metadata": {},
   "outputs": [],
   "source": [
    "all_players = [str(x) for x in tb.find_all(\"a\") if \"tournament/team\" not in str(x)]\n",
    "pattern_player_number = \"team_member_id=([0-9]+)\"\n",
    "pattern_player_name = \">(.+)<\"\n",
    "player_number_tuple = [\n",
    "    (re.findall(pattern_player_number, line)[0], re.findall(pattern_player_name, line)[0])\n",
    "    for line in all_players\n",
    "]"
   ]
  },
  {
   "cell_type": "code",
   "execution_count": null,
   "metadata": {},
   "outputs": [],
   "source": [
    "result = pd.DataFrame()\n",
    "for i, (number, player) in enumerate(player_number_tuple):\n",
    "    if i % 10 == 0:\n",
    "        print(i)\n",
    "#     try:\n",
    "    tmp = pd.read_html(\n",
    "        \"https://www.naqt.com/stats/tournament/player.jsp?team_member_id=\" + number\n",
    "    )[1]\n",
    "    tmp[\"team\"] = player\n",
    "    result = pd.concat([result, tmp])\n",
    "    time.sleep(0.05)\n",
    "#     except:\n",
    "#         print(\"{0} {1} {2}\".format(i, number, team))"
   ]
  },
  {
   "cell_type": "code",
   "execution_count": null,
   "metadata": {},
   "outputs": [],
   "source": [
    "result = result.rename({'team':'player'}, axis=1)"
   ]
  },
  {
   "cell_type": "code",
   "execution_count": null,
   "metadata": {},
   "outputs": [],
   "source": [
    "result.info()"
   ]
  },
  {
   "cell_type": "code",
   "execution_count": null,
   "metadata": {},
   "outputs": [],
   "source": [
    "(result\n",
    " .query(\"Round != 'Total'\")\n",
    " .drop(\"P%\", axis=1)\n",
    " .astype({\"Round\":np.int8,\n",
    "         \"Opponent\":'category',\n",
    "         'Result':'category',\n",
    "         'TUH':np.int8,\n",
    "         \"P\":np.int8,\n",
    "         \"TU\":np.int8,\n",
    "         \"I\":np.int8,\n",
    "         \"player\":\"category\"\n",
    "         })\n",
    "\n",
    ")"
   ]
  },
  {
   "cell_type": "code",
   "execution_count": null,
   "metadata": {},
   "outputs": [],
   "source": []
  }
 ],
 "metadata": {
  "kernelspec": {
   "display_name": "naqt_bayes",
   "language": "python",
   "name": "python3"
  },
  "language_info": {
   "codemirror_mode": {
    "name": "ipython",
    "version": 3
   },
   "file_extension": ".py",
   "mimetype": "text/x-python",
   "name": "python",
   "nbconvert_exporter": "python",
   "pygments_lexer": "ipython3",
   "version": "3.7.6"
  }
 },
 "nbformat": 4,
 "nbformat_minor": 2
}
